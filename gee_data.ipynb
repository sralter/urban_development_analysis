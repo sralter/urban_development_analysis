{
 "cells": [
  {
   "cell_type": "markdown",
   "metadata": {},
   "source": [
    "# Time Series Imagery Data with Google Earth Engine"
   ]
  },
  {
   "cell_type": "markdown",
   "metadata": {},
   "source": [
    "Our workflow is as follows:  \n",
    "1. Use Sentinel-2 imagery for the time interval (2015-2024)\n",
    "2. Filter the datast to cover New York City's spatial bounds over the time range\n",
    "3. Preprocess the imagery\n",
    "   1. Cloud masking\n",
    "   2. Extracting RGB bands, NIR for roofs\n",
    "4. Export GEE imagery as GeoTIFFs or numpy arrays for SAM input"
   ]
  },
  {
   "cell_type": "markdown",
   "metadata": {},
   "source": [
    "## Access time-series imagery"
   ]
  },
  {
   "cell_type": "code",
   "execution_count": null,
   "metadata": {},
   "outputs": [],
   "source": [
    "import geemap\n",
    "import ee\n",
    "\n",
    "ee.Initialize()\n",
    "\n",
    "# Define Brooklyn boundary\n",
    "brooklyn = ee.FeatureCollection(\"TIGER/2018/Counties\").filter(\n",
    "    ee.Filter.eq('NAME', 'Kings')\n",
    ")\n",
    "\n",
    "# Load Landsat imagery (1980–2024)\n",
    "landsat = ee.ImageCollection(\"LANDSAT/LC08/C01/T1_SR\").filterBounds(brooklyn)\n",
    "\n",
    "# Preprocess and visualize\n",
    "image = landsat.filterDate('2020-01-01', '2020-12-31').median()\n",
    "Map = geemap.Map()\n",
    "Map.centerObject(brooklyn)\n",
    "Map.addLayer(image, {\"bands\": [\"B4\", \"B3\", \"B2\"], \"min\": 0, \"max\": 3000}, \"Landsat\")\n",
    "Map\n"
   ]
  },
  {
   "cell_type": "markdown",
   "metadata": {},
   "source": [
    "## Segment buildings"
   ]
  },
  {
   "cell_type": "markdown",
   "metadata": {},
   "source": [
    "Next is to segment the buildings from the imagery with the SAM (Segment Anything) model:\n",
    "1. Preprocess imagery to extract building-relevant features\n",
    "2. Run SAM to segment buildings from each time-step image\n",
    "3. Save segmentation masks as raster files or NetCDF format"
   ]
  },
  {
   "cell_type": "code",
   "execution_count": null,
   "metadata": {},
   "outputs": [],
   "source": [
    "import torch\n",
    "from segment_anything import sam_model_registry, SamAutomaticMaskGenerator\n",
    "\n",
    "# Load the SAM model\n",
    "sam = sam_model_registry[\"vit_h\"](checkpoint=\"sam_vit_h_4b8939.pth\").cuda()\n",
    "mask_generator = SamAutomaticMaskGenerator(sam)\n",
    "\n",
    "# Load an image of Brooklyn\n",
    "import cv2\n",
    "image = cv2.imread(\"brooklyn_2020.png\")\n",
    "image_rgb = cv2.cvtColor(image, cv2.COLOR_BGR2RGB)\n",
    "\n",
    "# Generate segmentation masks\n",
    "masks = mask_generator.generate(image_rgb)\n",
    "\n",
    "# Save masks for further analysis\n",
    "import numpy as np\n",
    "np.save(\"segmentation_masks_2020.npy\", masks)"
   ]
  },
  {
   "cell_type": "markdown",
   "metadata": {},
   "source": [
    "## Utilize NetCDF for managing time-series data"
   ]
  },
  {
   "cell_type": "markdown",
   "metadata": {},
   "source": [
    "We will combine the segmentation masks for each time step into a NetCDF file, and use xarray to handle the multi-dimensional data."
   ]
  },
  {
   "cell_type": "code",
   "execution_count": null,
   "metadata": {},
   "outputs": [],
   "source": [
    "import xarray as xr\n",
    "import numpy as np\n",
    "\n",
    "# Combine masks into a NetCDF structure\n",
    "years = list(range(1980, 2025))\n",
    "masks = [np.load(f\"segmentation_masks_{year}.npy\") for year in years]\n",
    "\n",
    "ds = xr.Dataset(\n",
    "    {\"building_masks\": ((\"time\", \"x\", \"y\"), masks)},\n",
    "    coords={\"time\": years, \"x\": range(masks[0].shape[0]), \"y\": range(masks[0].shape[1])}\n",
    ")\n",
    "\n",
    "ds.to_netcdf(\"brooklyn_building_growth.nc\")"
   ]
  },
  {
   "cell_type": "markdown",
   "metadata": {},
   "source": [
    "## Analyze and visualize results"
   ]
  },
  {
   "cell_type": "markdown",
   "metadata": {},
   "source": [
    "We will calculate the number of buildings or total building area per year.  \n",
    "We will also create plots to visualize the trends in building growth."
   ]
  },
  {
   "cell_type": "code",
   "execution_count": null,
   "metadata": {},
   "outputs": [],
   "source": [
    "import matplotlib.pyplot as plt\n",
    "\n",
    "# Calculate total building area per year\n",
    "building_area = ds.building_masks.sum(dim=[\"x\", \"y\"])\n",
    "\n",
    "# Plot trends\n",
    "plt.figure(figsize=(10, 6))\n",
    "plt.plot(ds.time, building_area, label=\"Total Building Area\")\n",
    "plt.xlabel(\"Year\")\n",
    "plt.ylabel(\"Building Area (pixels)\")\n",
    "plt.title(\"Urban Development in Brooklyn (1980–2024)\")\n",
    "plt.legend()\n",
    "plt.show()"
   ]
  }
 ],
 "metadata": {
  "kernelspec": {
   "display_name": "geo",
   "language": "python",
   "name": "python3"
  },
  "language_info": {
   "name": "python",
   "version": "3.11.8"
  }
 },
 "nbformat": 4,
 "nbformat_minor": 2
}
