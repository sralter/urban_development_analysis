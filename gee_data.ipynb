{
 "cells": [
  {
   "cell_type": "markdown",
   "metadata": {},
   "source": [
    "# Time Series Imagery Data with Google Earth Engine"
   ]
  },
  {
   "cell_type": "code",
   "execution_count": 21,
   "metadata": {},
   "outputs": [
    {
     "data": {
      "text/html": [
       "\n",
       "            <style>\n",
       "                .geemap-dark {\n",
       "                    --jp-widgets-color: white;\n",
       "                    --jp-widgets-label-color: white;\n",
       "                    --jp-ui-font-color1: white;\n",
       "                    --jp-layout-color2: #454545;\n",
       "                    background-color: #383838;\n",
       "                }\n",
       "\n",
       "                .geemap-dark .jupyter-button {\n",
       "                    --jp-layout-color3: #383838;\n",
       "                }\n",
       "\n",
       "                .geemap-colab {\n",
       "                    background-color: var(--colab-primary-surface-color, white);\n",
       "                }\n",
       "\n",
       "                .geemap-colab .jupyter-button {\n",
       "                    --jp-layout-color3: var(--colab-primary-surface-color, white);\n",
       "                }\n",
       "            </style>\n",
       "            "
      ],
      "text/plain": [
       "<IPython.core.display.HTML object>"
      ]
     },
     "metadata": {},
     "output_type": "display_data"
    }
   ],
   "source": [
    "import geemap\n",
    "import ee\n",
    "import matplotlib.pyplot as plt\n",
    "import urllib.request\n",
    "import numpy as np\n",
    "from PIL import Image"
   ]
  },
  {
   "cell_type": "markdown",
   "metadata": {},
   "source": [
    "Our workflow is as follows:  \n",
    "1. Use Sentinel-2 imagery for the time interval (2015-2024)\n",
    "2. Filter the datast to cover New York City's spatial bounds over the time range\n",
    "3. Preprocess the imagery\n",
    "   1. Cloud masking\n",
    "   2. Extracting RGB bands, NIR for roofs\n",
    "4. Export GEE imagery as GeoTIFFs or numpy arrays for SAM input"
   ]
  },
  {
   "cell_type": "markdown",
   "metadata": {},
   "source": [
    "## Access time-series imagery"
   ]
  },
  {
   "cell_type": "code",
   "execution_count": 7,
   "metadata": {},
   "outputs": [
    {
     "data": {
      "text/html": [
       "\n",
       "            <style>\n",
       "                .geemap-dark {\n",
       "                    --jp-widgets-color: white;\n",
       "                    --jp-widgets-label-color: white;\n",
       "                    --jp-ui-font-color1: white;\n",
       "                    --jp-layout-color2: #454545;\n",
       "                    background-color: #383838;\n",
       "                }\n",
       "\n",
       "                .geemap-dark .jupyter-button {\n",
       "                    --jp-layout-color3: #383838;\n",
       "                }\n",
       "\n",
       "                .geemap-colab {\n",
       "                    background-color: var(--colab-primary-surface-color, white);\n",
       "                }\n",
       "\n",
       "                .geemap-colab .jupyter-button {\n",
       "                    --jp-layout-color3: var(--colab-primary-surface-color, white);\n",
       "                }\n",
       "            </style>\n",
       "            "
      ],
      "text/plain": [
       "<IPython.core.display.HTML object>"
      ]
     },
     "metadata": {},
     "output_type": "display_data"
    },
    {
     "data": {
      "application/vnd.jupyter.widget-view+json": {
       "model_id": "fab2fdb89f5847f785a95264d01ce0ad",
       "version_major": 2,
       "version_minor": 0
      },
      "text/plain": [
       "Map(center=[40.66381799523255, -73.93856333744463], controls=(WidgetControl(options=['position', 'transparent_…"
      ]
     },
     "execution_count": 7,
     "metadata": {},
     "output_type": "execute_result"
    }
   ],
   "source": [
    "# authenticate if needed\n",
    "ee.Authenticate()\n",
    "\n",
    "# initialize the Earth Engine library\n",
    "ee.Initialize(project='nyc-development')\n",
    "\n",
    "# Define Brooklyn boundary\n",
    "nyc = ee.FeatureCollection(\"TIGER/2018/Counties\").filter(\n",
    "    ee.Filter.And(\n",
    "    ee.Filter.inList('NAME',[\n",
    "        'New York', 'Kings', 'Queens', 'Bronx', 'Richmond']),\n",
    "    ee.Filter.eq('STATEFP', '36')\n",
    "    )\n",
    ")\n",
    "\n",
    "# visualize NYC boundaries\n",
    "Map = geemap.Map()\n",
    "Map.centerObject(nyc, 11)\n",
    "Map.addLayer(nyc, {'color': 'cornflowerblue'}, 'NYC Boroughs')\n",
    "Map"
   ]
  },
  {
   "cell_type": "code",
   "execution_count": 23,
   "metadata": {},
   "outputs": [
    {
     "data": {
      "text/html": [
       "\n",
       "            <style>\n",
       "                .geemap-dark {\n",
       "                    --jp-widgets-color: white;\n",
       "                    --jp-widgets-label-color: white;\n",
       "                    --jp-ui-font-color1: white;\n",
       "                    --jp-layout-color2: #454545;\n",
       "                    background-color: #383838;\n",
       "                }\n",
       "\n",
       "                .geemap-dark .jupyter-button {\n",
       "                    --jp-layout-color3: #383838;\n",
       "                }\n",
       "\n",
       "                .geemap-colab {\n",
       "                    background-color: var(--colab-primary-surface-color, white);\n",
       "                }\n",
       "\n",
       "                .geemap-colab .jupyter-button {\n",
       "                    --jp-layout-color3: var(--colab-primary-surface-color, white);\n",
       "                }\n",
       "            </style>\n",
       "            "
      ],
      "text/plain": [
       "<IPython.core.display.HTML object>"
      ]
     },
     "metadata": {},
     "output_type": "display_data"
    },
    {
     "name": "stdout",
     "output_type": "stream",
     "text": [
      "{'type': 'Image', 'bands': [{'id': 'B1', 'data_type': {'type': 'PixelType', 'precision': 'int', 'min': 0, 'max': 65535}, 'dimensions': [1830, 1830], 'crs': 'EPSG:32618', 'crs_transform': [60, 0, 499980, 0, -60, 4500000]}, {'id': 'B2', 'data_type': {'type': 'PixelType', 'precision': 'int', 'min': 0, 'max': 65535}, 'dimensions': [10980, 10980], 'crs': 'EPSG:32618', 'crs_transform': [10, 0, 499980, 0, -10, 4500000]}, {'id': 'B3', 'data_type': {'type': 'PixelType', 'precision': 'int', 'min': 0, 'max': 65535}, 'dimensions': [10980, 10980], 'crs': 'EPSG:32618', 'crs_transform': [10, 0, 499980, 0, -10, 4500000]}, {'id': 'B4', 'data_type': {'type': 'PixelType', 'precision': 'int', 'min': 0, 'max': 65535}, 'dimensions': [10980, 10980], 'crs': 'EPSG:32618', 'crs_transform': [10, 0, 499980, 0, -10, 4500000]}, {'id': 'B5', 'data_type': {'type': 'PixelType', 'precision': 'int', 'min': 0, 'max': 65535}, 'dimensions': [5490, 5490], 'crs': 'EPSG:32618', 'crs_transform': [20, 0, 499980, 0, -20, 4500000]}, {'id': 'B6', 'data_type': {'type': 'PixelType', 'precision': 'int', 'min': 0, 'max': 65535}, 'dimensions': [5490, 5490], 'crs': 'EPSG:32618', 'crs_transform': [20, 0, 499980, 0, -20, 4500000]}, {'id': 'B7', 'data_type': {'type': 'PixelType', 'precision': 'int', 'min': 0, 'max': 65535}, 'dimensions': [5490, 5490], 'crs': 'EPSG:32618', 'crs_transform': [20, 0, 499980, 0, -20, 4500000]}, {'id': 'B8', 'data_type': {'type': 'PixelType', 'precision': 'int', 'min': 0, 'max': 65535}, 'dimensions': [10980, 10980], 'crs': 'EPSG:32618', 'crs_transform': [10, 0, 499980, 0, -10, 4500000]}, {'id': 'B8A', 'data_type': {'type': 'PixelType', 'precision': 'int', 'min': 0, 'max': 65535}, 'dimensions': [5490, 5490], 'crs': 'EPSG:32618', 'crs_transform': [20, 0, 499980, 0, -20, 4500000]}, {'id': 'B9', 'data_type': {'type': 'PixelType', 'precision': 'int', 'min': 0, 'max': 65535}, 'dimensions': [1830, 1830], 'crs': 'EPSG:32618', 'crs_transform': [60, 0, 499980, 0, -60, 4500000]}, {'id': 'B10', 'data_type': {'type': 'PixelType', 'precision': 'int', 'min': 0, 'max': 65535}, 'dimensions': [1830, 1830], 'crs': 'EPSG:32618', 'crs_transform': [60, 0, 499980, 0, -60, 4500000]}, {'id': 'B11', 'data_type': {'type': 'PixelType', 'precision': 'int', 'min': 0, 'max': 65535}, 'dimensions': [5490, 5490], 'crs': 'EPSG:32618', 'crs_transform': [20, 0, 499980, 0, -20, 4500000]}, {'id': 'B12', 'data_type': {'type': 'PixelType', 'precision': 'int', 'min': 0, 'max': 65535}, 'dimensions': [5490, 5490], 'crs': 'EPSG:32618', 'crs_transform': [20, 0, 499980, 0, -20, 4500000]}, {'id': 'QA10', 'data_type': {'type': 'PixelType', 'precision': 'int', 'min': 0, 'max': 65535}, 'dimensions': [10980, 10980], 'crs': 'EPSG:32618', 'crs_transform': [10, 0, 499980, 0, -10, 4500000]}, {'id': 'QA20', 'data_type': {'type': 'PixelType', 'precision': 'int', 'min': 0, 'max': 4294967295}, 'dimensions': [5490, 5490], 'crs': 'EPSG:32618', 'crs_transform': [20, 0, 499980, 0, -20, 4500000]}, {'id': 'QA60', 'data_type': {'type': 'PixelType', 'precision': 'int', 'min': 0, 'max': 65535}, 'dimensions': [1830, 1830], 'crs': 'EPSG:32618', 'crs_transform': [60, 0, 499980, 0, -60, 4500000]}], 'version': 1685679840047618, 'id': 'COPERNICUS/S2/20230601T155141_20230601T155136_T18TWK', 'properties': {'DATATAKE_IDENTIFIER': 'GS2A_20230601T155141_041478_N05.09', 'SPACECRAFT_NAME': 'Sentinel-2A', 'RADIO_ADD_OFFSET_B8A': -1000, 'MEAN_INCIDENCE_AZIMUTH_ANGLE_B8A': 104.828947255747, 'RADIO_ADD_OFFSET_B10': -1000, 'MEAN_SOLAR_AZIMUTH_ANGLE': 138.790445443278, 'system:footprint': {'type': 'LinearRing', 'coordinates': [[-75.00026214889866, 39.66169996995017], [-75.00024298045938, 39.66169721534747], [-73.72058932227229, 39.65465002035422], [-73.72053481747572, 39.65468600033874], [-73.72047115369966, 39.65471836486853], [-73.71123960409992, 40.149170746262364], [-73.70177720135572, 40.643558525121456], [-73.7018246168431, 40.64360053851793], [-73.70186466855294, 40.64364669409073], [-73.70188415559278, 40.64364973643625], [-74.86823387687116, 40.650871313821774], [-74.86827394014645, 40.65084463882194], [-74.86832649529684, 40.65083773044159], [-74.86834202092378, 40.650818603854745], [-74.8754659877544, 40.638926673666184], [-74.8840320596452, 40.61081923459795], [-74.95700585522968, 40.3676249409052], [-74.99846993454939, 40.223842244711754], [-75.00035290919884, 40.21626477884896], [-75.00035005622358, 39.661787163865164], [-75.000302536347, 39.66174571565708], [-75.00026214889866, 39.66169996995017]]}, 'SOLAR_IRRADIANCE_B12': 85.25, 'SOLAR_IRRADIANCE_B10': 367.15, 'SENSOR_QUALITY': 'PASSED', 'SOLAR_IRRADIANCE_B11': 245.59, 'GENERATION_TIME': 1685653548000, 'RADIO_ADD_OFFSET_B12': -1000, 'RADIO_ADD_OFFSET_B11': -1000, 'SOLAR_IRRADIANCE_B8A': 955.32, 'FORMAT_CORRECTNESS': 'PASSED', 'CLOUD_COVERAGE_ASSESSMENT': 0, 'system:time_end': 1685634729496, 'SNOW_PIXEL_PERCENTAGE': 0, 'system:time_start': 1685634729496, 'RADIO_ADD_OFFSET_B1': -1000, 'RADIO_ADD_OFFSET_B2': -1000, 'DATASTRIP_ID': 'S2A_OPER_MSI_L1C_DS_2APS_20230601T210548_S20230601T155136_N05.09', 'RADIO_ADD_OFFSET_B3': -1000, 'RADIO_ADD_OFFSET_B4': -1000, 'RADIO_ADD_OFFSET_B5': -1000, 'PROCESSING_BASELINE': '05.09', 'SENSING_ORBIT_NUMBER': 11, 'RADIO_ADD_OFFSET_B6': -1000, 'RADIO_ADD_OFFSET_B7': -1000, 'SENSING_ORBIT_DIRECTION': 'DESCENDING', 'GENERAL_QUALITY': 'PASSED', 'GRANULE_ID': 'L1C_T18TWK_A041478_20230601T155136', 'REFLECTANCE_CONVERSION_CORRECTION': 0.973787993504872, 'MEAN_INCIDENCE_AZIMUTH_ANGLE_B8': 104.310842108349, 'DATATAKE_TYPE': 'INS-NOBS', 'MEAN_INCIDENCE_AZIMUTH_ANGLE_B9': 104.99678470337, 'MEAN_INCIDENCE_AZIMUTH_ANGLE_B6': 104.71307780405, 'MEAN_INCIDENCE_AZIMUTH_ANGLE_B7': 104.770329349277, 'MEAN_INCIDENCE_AZIMUTH_ANGLE_B4': 104.550870214502, 'MEAN_INCIDENCE_ZENITH_ANGLE_B1': 7.52709173691538, 'RADIO_ADD_OFFSET_B8': -1000, 'MEAN_INCIDENCE_AZIMUTH_ANGLE_B5': 104.643560467285, 'RADIOMETRIC_QUALITY': 'PASSED', 'RADIO_ADD_OFFSET_B9': -1000, 'MEAN_INCIDENCE_AZIMUTH_ANGLE_B2': 104.200154093278, 'MEAN_INCIDENCE_AZIMUTH_ANGLE_B3': 104.389520238795, 'MEAN_INCIDENCE_ZENITH_ANGLE_B5': 7.39145378655942, 'MEAN_INCIDENCE_AZIMUTH_ANGLE_B1': 104.944624943263, 'MEAN_INCIDENCE_ZENITH_ANGLE_B4': 7.36600209930228, 'MEAN_INCIDENCE_ZENITH_ANGLE_B3': 7.32709083287216, 'MEAN_INCIDENCE_ZENITH_ANGLE_B2': 7.29558087278971, 'MEAN_INCIDENCE_ZENITH_ANGLE_B9': 7.5674828784032, 'MEAN_INCIDENCE_ZENITH_ANGLE_B8': 7.31384326573086, 'MEAN_INCIDENCE_ZENITH_ANGLE_B7': 7.45579157115344, 'MEAN_INCIDENCE_ZENITH_ANGLE_B6': 7.41981500094504, 'MEAN_SOLAR_ZENITH_ANGLE': 22.4881321077577, 'MEAN_INCIDENCE_ZENITH_ANGLE_B8A': 7.48975377117015, 'MGRS_TILE': '18TWK', 'CLOUDY_PIXEL_PERCENTAGE': 0, 'PRODUCT_ID': 'S2A_MSIL1C_20230601T155141_N0509_R011_T18TWK_20230601T210548', 'MEAN_INCIDENCE_ZENITH_ANGLE_B10': 7.3631622746789, 'SOLAR_IRRADIANCE_B9': 812.92, 'DEGRADED_MSI_DATA_PERCENTAGE': 0.0102, 'MEAN_INCIDENCE_ZENITH_ANGLE_B11': 7.42042357847283, 'MEAN_INCIDENCE_ZENITH_ANGLE_B12': 7.50449305304234, 'SOLAR_IRRADIANCE_B6': 1287.61, 'MEAN_INCIDENCE_AZIMUTH_ANGLE_B10': 104.558472233588, 'SOLAR_IRRADIANCE_B5': 1424.64, 'MEAN_INCIDENCE_AZIMUTH_ANGLE_B11': 104.697493701804, 'SOLAR_IRRADIANCE_B8': 1041.63, 'MEAN_INCIDENCE_AZIMUTH_ANGLE_B12': 104.894730017871, 'SOLAR_IRRADIANCE_B7': 1162.08, 'SOLAR_IRRADIANCE_B2': 1959.66, 'SOLAR_IRRADIANCE_B1': 1884.69, 'SOLAR_IRRADIANCE_B4': 1512.06, 'GEOMETRIC_QUALITY': 'PASSED', 'SOLAR_IRRADIANCE_B3': 1823.24, 'system:asset_size': 1211095889, 'system:index': '20230601T155141_20230601T155136_T18TWK'}}\n",
      "image url: https://earthengine.googleapis.com/v1/projects/nyc-development/thumbnails/5c85c6e84cb583c474555607d670584b-9b1c61cfc2cfcaec5a1726af6a5b5849:getPixels\n"
     ]
    },
    {
     "data": {
      "image/png": "[encoded data removed]",
      "text/plain": [
       "<Figure size 1000x1000 with 1 Axes>"
      ]
     },
     "metadata": {},
     "output_type": "display_data"
    }
   ],
   "source": [
    "# define Sentinel-2 image collection\n",
    "sentinel2 = ee.ImageCollection('COPERNICUS/S2') \\\n",
    "    .filterBounds(nyc) \\\n",
    "    .filterDate('2023-06-01', '2023-06-30') \\\n",
    "    .filter(ee.Filter.lt('CLOUDY_PIXEL_PERCENTAGE', 10))  # filter by cloud cover\n",
    "\n",
    "# convert the filtered collection into a Python list\n",
    "image_list = sentinel2.toList(sentinel2.size())\n",
    "\n",
    "# function to download and plot an image\n",
    "def plot_ee_image(ee_image, region, vis_params, ax, scale=100):\n",
    "    \"\"\"download an earth engine image and plot it using matplotlib.\"\"\"\n",
    "    url = ee_image.clip(region).getThumbURL(\n",
    "        {**vis_params, 'region': region.geometry().getInfo(), 'scale': scale}\n",
    "    )\n",
    "    \n",
    "    # print url to see if the image request is successful\n",
    "    print(\"image url:\", url)\n",
    "    \n",
    "    # open the url and read the image\n",
    "    with urllib.request.urlopen(url) as response:\n",
    "        image = Image.open(response)\n",
    "    \n",
    "    # convert the image to a numpy array and plot\n",
    "    ax.imshow(np.array(image))\n",
    "    ax.axis('off')\n",
    "\n",
    "# check the image metadata to see if it contains data\n",
    "image_info = first_image.getInfo()\n",
    "print(image_info)  # to see metadata about the image\n",
    "\n",
    "# use a single borough (manhattan) as an example\n",
    "manhattan = nyc.filter(ee.Filter.eq('NAME', 'New York'))\n",
    "\n",
    "# visualization parameters for sentinel-2 rgb\n",
    "vis_params = {\n",
    "    'bands': ['B4', 'B3', 'B2'],  # rgb bands\n",
    "    'min': 0,\n",
    "    'max': 3000,  # adjusted range for sentinel-2 values\n",
    "}\n",
    "\n",
    "# plot the first image\n",
    "fig, ax = plt.subplots(figsize=(10, 10))\n",
    "plot_ee_image(first_image, manhattan, vis_params, ax, scale=500)  # scale adjusted\n",
    "plt.show()"
   ]
  },
  {
   "cell_type": "code",
   "execution_count": 13,
   "metadata": {},
   "outputs": [
    {
     "data": {
      "text/html": [
       "\n",
       "            <style>\n",
       "                .geemap-dark {\n",
       "                    --jp-widgets-color: white;\n",
       "                    --jp-widgets-label-color: white;\n",
       "                    --jp-ui-font-color1: white;\n",
       "                    --jp-layout-color2: #454545;\n",
       "                    background-color: #383838;\n",
       "                }\n",
       "\n",
       "                .geemap-dark .jupyter-button {\n",
       "                    --jp-layout-color3: #383838;\n",
       "                }\n",
       "\n",
       "                .geemap-colab {\n",
       "                    background-color: var(--colab-primary-surface-color, white);\n",
       "                }\n",
       "\n",
       "                .geemap-colab .jupyter-button {\n",
       "                    --jp-layout-color3: var(--colab-primary-surface-color, white);\n",
       "                }\n",
       "            </style>\n",
       "            "
      ],
      "text/plain": [
       "<IPython.core.display.HTML object>"
      ]
     },
     "metadata": {},
     "output_type": "display_data"
    },
    {
     "name": "stdout",
     "output_type": "stream",
     "text": [
      "6\n",
      "[{'type': 'Image', 'bands': [{'id': 'B1', 'data_type': {'type': 'PixelType', 'precision': 'int', 'min': 0, 'max': 65535}, 'dimensions': [1830, 1830], 'crs': 'EPSG:32618', 'crs_transform': [60, 0, 499980, 0, -60, 4500000]}, {'id': 'B2', 'data_type': {'type': 'PixelType', 'precision': 'int', 'min': 0, 'max': 65535}, 'dimensions': [10980, 10980], 'crs': 'EPSG:32618', 'crs_transform': [10, 0, 499980, 0, -10, 4500000]}, {'id': 'B3', 'data_type': {'type': 'PixelType', 'precision': 'int', 'min': 0, 'max': 65535}, 'dimensions': [10980, 10980], 'crs': 'EPSG:32618', 'crs_transform': [10, 0, 499980, 0, -10, 4500000]}, {'id': 'B4', 'data_type': {'type': 'PixelType', 'precision': 'int', 'min': 0, 'max': 65535}, 'dimensions': [10980, 10980], 'crs': 'EPSG:32618', 'crs_transform': [10, 0, 499980, 0, -10, 4500000]}, {'id': 'B5', 'data_type': {'type': 'PixelType', 'precision': 'int', 'min': 0, 'max': 65535}, 'dimensions': [5490, 5490], 'crs': 'EPSG:32618', 'crs_transform': [20, 0, 499980, 0, -20, 4500000]}, {'id': 'B6', 'data_type': {'type': 'PixelType', 'precision': 'int', 'min': 0, 'max': 65535}, 'dimensions': [5490, 5490], 'crs': 'EPSG:32618', 'crs_transform': [20, 0, 499980, 0, -20, 4500000]}, {'id': 'B7', 'data_type': {'type': 'PixelType', 'precision': 'int', 'min': 0, 'max': 65535}, 'dimensions': [5490, 5490], 'crs': 'EPSG:32618', 'crs_transform': [20, 0, 499980, 0, -20, 4500000]}, {'id': 'B8', 'data_type': {'type': 'PixelType', 'precision': 'int', 'min': 0, 'max': 65535}, 'dimensions': [10980, 10980], 'crs': 'EPSG:32618', 'crs_transform': [10, 0, 499980, 0, -10, 4500000]}, {'id': 'B8A', 'data_type': {'type': 'PixelType', 'precision': 'int', 'min': 0, 'max': 65535}, 'dimensions': [5490, 5490], 'crs': 'EPSG:32618', 'crs_transform': [20, 0, 499980, 0, -20, 4500000]}, {'id': 'B9', 'data_type': {'type': 'PixelType', 'precision': 'int', 'min': 0, 'max': 65535}, 'dimensions': [1830, 1830], 'crs': 'EPSG:32618', 'crs_transform': [60, 0, 499980, 0, -60, 4500000]}, {'id': 'B10', 'data_type': {'type': 'PixelType', 'precision': 'int', 'min': 0, 'max': 65535}, 'dimensions': [1830, 1830], 'crs': 'EPSG:32618', 'crs_transform': [60, 0, 499980, 0, -60, 4500000]}, {'id': 'B11', 'data_type': {'type': 'PixelType', 'precision': 'int', 'min': 0, 'max': 65535}, 'dimensions': [5490, 5490], 'crs': 'EPSG:32618', 'crs_transform': [20, 0, 499980, 0, -20, 4500000]}, {'id': 'B12', 'data_type': {'type': 'PixelType', 'precision': 'int', 'min': 0, 'max': 65535}, 'dimensions': [5490, 5490], 'crs': 'EPSG:32618', 'crs_transform': [20, 0, 499980, 0, -20, 4500000]}, {'id': 'QA10', 'data_type': {'type': 'PixelType', 'precision': 'int', 'min': 0, 'max': 65535}, 'dimensions': [10980, 10980], 'crs': 'EPSG:32618', 'crs_transform': [10, 0, 499980, 0, -10, 4500000]}, {'id': 'QA20', 'data_type': {'type': 'PixelType', 'precision': 'int', 'min': 0, 'max': 4294967295}, 'dimensions': [5490, 5490], 'crs': 'EPSG:32618', 'crs_transform': [20, 0, 499980, 0, -20, 4500000]}, {'id': 'QA60', 'data_type': {'type': 'PixelType', 'precision': 'int', 'min': 0, 'max': 65535}, 'dimensions': [1830, 1830], 'crs': 'EPSG:32618', 'crs_transform': [60, 0, 499980, 0, -60, 4500000]}], 'version': 1685679840047618, 'id': 'COPERNICUS/S2/20230601T155141_20230601T155136_T18TWK', 'properties': {'DATATAKE_IDENTIFIER': 'GS2A_20230601T155141_041478_N05.09', 'SPACECRAFT_NAME': 'Sentinel-2A', 'RADIO_ADD_OFFSET_B8A': -1000, 'MEAN_INCIDENCE_AZIMUTH_ANGLE_B8A': 104.828947255747, 'RADIO_ADD_OFFSET_B10': -1000, 'MEAN_SOLAR_AZIMUTH_ANGLE': 138.790445443278, 'system:footprint': {'type': 'LinearRing', 'coordinates': [[-75.00026214889866, 39.66169996995017], [-75.00024298045938, 39.66169721534747], [-73.72058932227229, 39.65465002035422], [-73.72053481747572, 39.65468600033874], [-73.72047115369966, 39.65471836486853], [-73.71123960409992, 40.149170746262364], [-73.70177720135572, 40.643558525121456], [-73.7018246168431, 40.64360053851793], [-73.70186466855294, 40.64364669409073], [-73.70188415559278, 40.64364973643625], [-74.86823387687116, 40.650871313821774], [-74.86827394014645, 40.65084463882194], [-74.86832649529684, 40.65083773044159], [-74.86834202092378, 40.650818603854745], [-74.8754659877544, 40.638926673666184], [-74.8840320596452, 40.61081923459795], [-74.95700585522968, 40.3676249409052], [-74.99846993454939, 40.223842244711754], [-75.00035290919884, 40.21626477884896], [-75.00035005622358, 39.661787163865164], [-75.000302536347, 39.66174571565708], [-75.00026214889866, 39.66169996995017]]}, 'SOLAR_IRRADIANCE_B12': 85.25, 'SOLAR_IRRADIANCE_B10': 367.15, 'SENSOR_QUALITY': 'PASSED', 'SOLAR_IRRADIANCE_B11': 245.59, 'GENERATION_TIME': 1685653548000, 'RADIO_ADD_OFFSET_B12': -1000, 'RADIO_ADD_OFFSET_B11': -1000, 'SOLAR_IRRADIANCE_B8A': 955.32, 'FORMAT_CORRECTNESS': 'PASSED', 'CLOUD_COVERAGE_ASSESSMENT': 0, 'system:time_end': 1685634729496, 'SNOW_PIXEL_PERCENTAGE': 0, 'system:time_start': 1685634729496, 'RADIO_ADD_OFFSET_B1': -1000, 'RADIO_ADD_OFFSET_B2': -1000, 'DATASTRIP_ID': 'S2A_OPER_MSI_L1C_DS_2APS_20230601T210548_S20230601T155136_N05.09', 'RADIO_ADD_OFFSET_B3': -1000, 'RADIO_ADD_OFFSET_B4': -1000, 'RADIO_ADD_OFFSET_B5': -1000, 'PROCESSING_BASELINE': '05.09', 'SENSING_ORBIT_NUMBER': 11, 'RADIO_ADD_OFFSET_B6': -1000, 'RADIO_ADD_OFFSET_B7': -1000, 'SENSING_ORBIT_DIRECTION': 'DESCENDING', 'GENERAL_QUALITY': 'PASSED', 'GRANULE_ID': 'L1C_T18TWK_A041478_20230601T155136', 'REFLECTANCE_CONVERSION_CORRECTION': 0.973787993504872, 'MEAN_INCIDENCE_AZIMUTH_ANGLE_B8': 104.310842108349, 'DATATAKE_TYPE': 'INS-NOBS', 'MEAN_INCIDENCE_AZIMUTH_ANGLE_B9': 104.99678470337, 'MEAN_INCIDENCE_AZIMUTH_ANGLE_B6': 104.71307780405, 'MEAN_INCIDENCE_AZIMUTH_ANGLE_B7': 104.770329349277, 'MEAN_INCIDENCE_AZIMUTH_ANGLE_B4': 104.550870214502, 'MEAN_INCIDENCE_ZENITH_ANGLE_B1': 7.52709173691538, 'RADIO_ADD_OFFSET_B8': -1000, 'MEAN_INCIDENCE_AZIMUTH_ANGLE_B5': 104.643560467285, 'RADIOMETRIC_QUALITY': 'PASSED', 'RADIO_ADD_OFFSET_B9': -1000, 'MEAN_INCIDENCE_AZIMUTH_ANGLE_B2': 104.200154093278, 'MEAN_INCIDENCE_AZIMUTH_ANGLE_B3': 104.389520238795, 'MEAN_INCIDENCE_ZENITH_ANGLE_B5': 7.39145378655942, 'MEAN_INCIDENCE_AZIMUTH_ANGLE_B1': 104.944624943263, 'MEAN_INCIDENCE_ZENITH_ANGLE_B4': 7.36600209930228, 'MEAN_INCIDENCE_ZENITH_ANGLE_B3': 7.32709083287216, 'MEAN_INCIDENCE_ZENITH_ANGLE_B2': 7.29558087278971, 'MEAN_INCIDENCE_ZENITH_ANGLE_B9': 7.5674828784032, 'MEAN_INCIDENCE_ZENITH_ANGLE_B8': 7.31384326573086, 'MEAN_INCIDENCE_ZENITH_ANGLE_B7': 7.45579157115344, 'MEAN_INCIDENCE_ZENITH_ANGLE_B6': 7.41981500094504, 'MEAN_SOLAR_ZENITH_ANGLE': 22.4881321077577, 'MEAN_INCIDENCE_ZENITH_ANGLE_B8A': 7.48975377117015, 'MGRS_TILE': '18TWK', 'CLOUDY_PIXEL_PERCENTAGE': 0, 'PRODUCT_ID': 'S2A_MSIL1C_20230601T155141_N0509_R011_T18TWK_20230601T210548', 'MEAN_INCIDENCE_ZENITH_ANGLE_B10': 7.3631622746789, 'SOLAR_IRRADIANCE_B9': 812.92, 'DEGRADED_MSI_DATA_PERCENTAGE': 0.0102, 'MEAN_INCIDENCE_ZENITH_ANGLE_B11': 7.42042357847283, 'MEAN_INCIDENCE_ZENITH_ANGLE_B12': 7.50449305304234, 'SOLAR_IRRADIANCE_B6': 1287.61, 'MEAN_INCIDENCE_AZIMUTH_ANGLE_B10': 104.558472233588, 'SOLAR_IRRADIANCE_B5': 1424.64, 'MEAN_INCIDENCE_AZIMUTH_ANGLE_B11': 104.697493701804, 'SOLAR_IRRADIANCE_B8': 1041.63, 'MEAN_INCIDENCE_AZIMUTH_ANGLE_B12': 104.894730017871, 'SOLAR_IRRADIANCE_B7': 1162.08, 'SOLAR_IRRADIANCE_B2': 1959.66, 'SOLAR_IRRADIANCE_B1': 1884.69, 'SOLAR_IRRADIANCE_B4': 1512.06, 'GEOMETRIC_QUALITY': 'PASSED', 'SOLAR_IRRADIANCE_B3': 1823.24, 'system:asset_size': 1211095889, 'system:index': '20230601T155141_20230601T155136_T18TWK'}}, {'type': 'Image', 'bands': [{'id': 'B1', 'data_type': {'type': 'PixelType', 'precision': 'int', 'min': 0, 'max': 65535}, 'dimensions': [1830, 1830], 'crs': 'EPSG:32618', 'crs_transform': [60, 0, 499980, 0, -60, 4600020]}, {'id': 'B2', 'data_type': {'type': 'PixelType', 'precision': 'int', 'min': 0, 'max': 65535}, 'dimensions': [10980, 10980], 'crs': 'EPSG:32618', 'crs_transform': [10, 0, 499980, 0, -10, 4600020]}, {'id': 'B3', 'data_type': {'type': 'PixelType', 'precision': 'int', 'min': 0, 'max': 65535}, 'dimensions': [10980, 10980], 'crs': 'EPSG:32618', 'crs_transform': [10, 0, 499980, 0, -10, 4600020]}, {'id': 'B4', 'data_type': {'type': 'PixelType', 'precision': 'int', 'min': 0, 'max': 65535}, 'dimensions': [10980, 10980], 'crs': 'EPSG:32618', 'crs_transform': [10, 0, 499980, 0, -10, 4600020]}, {'id': 'B5', 'data_type': {'type': 'PixelType', 'precision': 'int', 'min': 0, 'max': 65535}, 'dimensions': [5490, 5490], 'crs': 'EPSG:32618', 'crs_transform': [20, 0, 499980, 0, -20, 4600020]}, {'id': 'B6', 'data_type': {'type': 'PixelType', 'precision': 'int', 'min': 0, 'max': 65535}, 'dimensions': [5490, 5490], 'crs': 'EPSG:32618', 'crs_transform': [20, 0, 499980, 0, -20, 4600020]}, {'id': 'B7', 'data_type': {'type': 'PixelType', 'precision': 'int', 'min': 0, 'max': 65535}, 'dimensions': [5490, 5490], 'crs': 'EPSG:32618', 'crs_transform': [20, 0, 499980, 0, -20, 4600020]}, {'id': 'B8', 'data_type': {'type': 'PixelType', 'precision': 'int', 'min': 0, 'max': 65535}, 'dimensions': [10980, 10980], 'crs': 'EPSG:32618', 'crs_transform': [10, 0, 499980, 0, -10, 4600020]}, {'id': 'B8A', 'data_type': {'type': 'PixelType', 'precision': 'int', 'min': 0, 'max': 65535}, 'dimensions': [5490, 5490], 'crs': 'EPSG:32618', 'crs_transform': [20, 0, 499980, 0, -20, 4600020]}, {'id': 'B9', 'data_type': {'type': 'PixelType', 'precision': 'int', 'min': 0, 'max': 65535}, 'dimensions': [1830, 1830], 'crs': 'EPSG:32618', 'crs_transform': [60, 0, 499980, 0, -60, 4600020]}, {'id': 'B10', 'data_type': {'type': 'PixelType', 'precision': 'int', 'min': 0, 'max': 65535}, 'dimensions': [1830, 1830], 'crs': 'EPSG:32618', 'crs_transform': [60, 0, 499980, 0, -60, 4600020]}, {'id': 'B11', 'data_type': {'type': 'PixelType', 'precision': 'int', 'min': 0, 'max': 65535}, 'dimensions': [5490, 5490], 'crs': 'EPSG:32618', 'crs_transform': [20, 0, 499980, 0, -20, 4600020]}, {'id': 'B12', 'data_type': {'type': 'PixelType', 'precision': 'int', 'min': 0, 'max': 65535}, 'dimensions': [5490, 5490], 'crs': 'EPSG:32618', 'crs_transform': [20, 0, 499980, 0, -20, 4600020]}, {'id': 'QA10', 'data_type': {'type': 'PixelType', 'precision': 'int', 'min': 0, 'max': 65535}, 'dimensions': [10980, 10980], 'crs': 'EPSG:32618', 'crs_transform': [10, 0, 499980, 0, -10, 4600020]}, {'id': 'QA20', 'data_type': {'type': 'PixelType', 'precision': 'int', 'min': 0, 'max': 4294967295}, 'dimensions': [5490, 5490], 'crs': 'EPSG:32618', 'crs_transform': [20, 0, 499980, 0, -20, 4600020]}, {'id': 'QA60', 'data_type': {'type': 'PixelType', 'precision': 'int', 'min': 0, 'max': 65535}, 'dimensions': [1830, 1830], 'crs': 'EPSG:32618', 'crs_transform': [60, 0, 499980, 0, -60, 4600020]}], 'version': 1685678283053412, 'id': 'COPERNICUS/S2/20230601T155141_20230601T155136_T18TWL', 'properties': {'DATATAKE_IDENTIFIER': 'GS2A_20230601T155141_041478_N05.09', 'SPACECRAFT_NAME': 'Sentinel-2A', 'RADIO_ADD_OFFSET_B8A': -1000, 'MEAN_INCIDENCE_AZIMUTH_ANGLE_B8A': 103.908363153187, 'RADIO_ADD_OFFSET_B10': -1000, 'MEAN_SOLAR_AZIMUTH_ANGLE': 140.07567259831, 'system:footprint': {'type': 'LinearRing', 'coordinates': [[-73.6839190945511, 41.544312908256416], [-73.68401016183714, 41.544403970827375], [-74.5895085612254, 41.55120201355567], [-74.59027423946229, 41.55006515368337], [-74.59394242294381, 41.53925918796596], [-74.59687687777958, 41.53008133102617], [-74.61593067021634, 41.470156927513784], [-74.6298348898289, 41.4258854076783], [-74.64299067884394, 41.38377144740716], [-74.88690284158871, 40.59082231480886], [-74.8904677623955, 40.57893338056891], [-74.89474783115739, 40.56379255388647], [-74.89474872329139, 40.56320529883259], [-74.89434048226175, 40.5628933100547], [-74.89394142924164, 40.56279140733821], [-73.70359712193483, 40.555565981914455], [-73.70347732701376, 40.55563422369486], [-73.69381959404613, 41.050005991368856], [-73.6839190945511, 41.544312908256416]]}, 'SOLAR_IRRADIANCE_B12': 85.25, 'SOLAR_IRRADIANCE_B10': 367.15, 'SENSOR_QUALITY': 'PASSED', 'SOLAR_IRRADIANCE_B11': 245.59, 'GENERATION_TIME': 1685653548000, 'RADIO_ADD_OFFSET_B12': -1000, 'RADIO_ADD_OFFSET_B11': -1000, 'SOLAR_IRRADIANCE_B8A': 955.32, 'FORMAT_CORRECTNESS': 'PASSED', 'CLOUD_COVERAGE_ASSESSMENT': 0, 'system:time_end': 1685634714911, 'SNOW_PIXEL_PERCENTAGE': 0, 'system:time_start': 1685634714911, 'RADIO_ADD_OFFSET_B1': -1000, 'RADIO_ADD_OFFSET_B2': -1000, 'DATASTRIP_ID': 'S2A_OPER_MSI_L1C_DS_2APS_20230601T210548_S20230601T155136_N05.09', 'RADIO_ADD_OFFSET_B3': -1000, 'RADIO_ADD_OFFSET_B4': -1000, 'RADIO_ADD_OFFSET_B5': -1000, 'PROCESSING_BASELINE': '05.09', 'SENSING_ORBIT_NUMBER': 11, 'RADIO_ADD_OFFSET_B6': -1000, 'RADIO_ADD_OFFSET_B7': -1000, 'SENSING_ORBIT_DIRECTION': 'DESCENDING', 'GENERAL_QUALITY': 'PASSED', 'GRANULE_ID': 'L1C_T18TWL_A041478_20230601T155136', 'REFLECTANCE_CONVERSION_CORRECTION': 0.973787993504872, 'MEAN_INCIDENCE_AZIMUTH_ANGLE_B8': 103.648914591195, 'DATATAKE_TYPE': 'INS-NOBS', 'MEAN_INCIDENCE_AZIMUTH_ANGLE_B9': 104.039069061606, 'MEAN_INCIDENCE_AZIMUTH_ANGLE_B6': 103.863551861314, 'MEAN_INCIDENCE_AZIMUTH_ANGLE_B7': 103.893181786491, 'MEAN_INCIDENCE_AZIMUTH_ANGLE_B4': 103.767731934964, 'MEAN_INCIDENCE_ZENITH_ANGLE_B1': 8.48611027738359, 'RADIO_ADD_OFFSET_B8': -1000, 'MEAN_INCIDENCE_AZIMUTH_ANGLE_B5': 103.823170786811, 'RADIOMETRIC_QUALITY': 'PASSED', 'RADIO_ADD_OFFSET_B9': -1000, 'MEAN_INCIDENCE_AZIMUTH_ANGLE_B2': 103.607249828685, 'MEAN_INCIDENCE_AZIMUTH_ANGLE_B3': 103.684355781257, 'MEAN_INCIDENCE_ZENITH_ANGLE_B5': 8.37156898807254, 'MEAN_INCIDENCE_AZIMUTH_ANGLE_B1': 103.999011472476, 'MEAN_INCIDENCE_ZENITH_ANGLE_B4': 8.35096998478898, 'MEAN_INCIDENCE_ZENITH_ANGLE_B3': 8.31971086948231, 'MEAN_INCIDENCE_ZENITH_ANGLE_B2': 8.30605015804226, 'MEAN_INCIDENCE_ZENITH_ANGLE_B9': 8.51964047964173, 'MEAN_INCIDENCE_ZENITH_ANGLE_B8': 8.31157306522695, 'MEAN_INCIDENCE_ZENITH_ANGLE_B7': 8.42380613755467, 'MEAN_INCIDENCE_ZENITH_ANGLE_B6': 8.39465746087132, 'MEAN_SOLAR_ZENITH_ANGLE': 23.198542612534, 'MEAN_INCIDENCE_ZENITH_ANGLE_B8A': 8.4553069857544, 'MGRS_TILE': '18TWL', 'CLOUDY_PIXEL_PERCENTAGE': 0, 'PRODUCT_ID': 'S2A_MSIL1C_20230601T155141_N0509_R011_T18TWL_20230601T210548', 'MEAN_INCIDENCE_ZENITH_ANGLE_B10': 8.33932765588278, 'SOLAR_IRRADIANCE_B9': 812.92, 'DEGRADED_MSI_DATA_PERCENTAGE': 0.0148, 'MEAN_INCIDENCE_ZENITH_ANGLE_B11': 8.3818449442862, 'MEAN_INCIDENCE_ZENITH_ANGLE_B12': 8.44674034953864, 'SOLAR_IRRADIANCE_B6': 1287.61, 'MEAN_INCIDENCE_AZIMUTH_ANGLE_B10': 103.770908837623, 'SOLAR_IRRADIANCE_B5': 1424.64, 'MEAN_INCIDENCE_AZIMUTH_ANGLE_B11': 103.897946705425, 'SOLAR_IRRADIANCE_B8': 1041.63, 'MEAN_INCIDENCE_AZIMUTH_ANGLE_B12': 103.982609347793, 'SOLAR_IRRADIANCE_B7': 1162.08, 'SOLAR_IRRADIANCE_B2': 1959.66, 'SOLAR_IRRADIANCE_B1': 1884.69, 'SOLAR_IRRADIANCE_B4': 1512.06, 'GEOMETRIC_QUALITY': 'PASSED', 'SOLAR_IRRADIANCE_B3': 1823.24, 'system:asset_size': 1037756218, 'system:index': '20230601T155141_20230601T155136_T18TWL'}}, {'type': 'Image', 'bands': [{'id': 'B1', 'data_type': {'type': 'PixelType', 'precision': 'int', 'min': 0, 'max': 65535}, 'dimensions': [1830, 1830], 'crs': 'EPSG:32618', 'crs_transform': [60, 0, 600000, 0, -60, 4500000]}, {'id': 'B2', 'data_type': {'type': 'PixelType', 'precision': 'int', 'min': 0, 'max': 65535}, 'dimensions': [10980, 10980], 'crs': 'EPSG:32618', 'crs_transform': [10, 0, 600000, 0, -10, 4500000]}, {'id': 'B3', 'data_type': {'type': 'PixelType', 'precision': 'int', 'min': 0, 'max': 65535}, 'dimensions': [10980, 10980], 'crs': 'EPSG:32618', 'crs_transform': [10, 0, 600000, 0, -10, 4500000]}, {'id': 'B4', 'data_type': {'type': 'PixelType', 'precision': 'int', 'min': 0, 'max': 65535}, 'dimensions': [10980, 10980], 'crs': 'EPSG:32618', 'crs_transform': [10, 0, 600000, 0, -10, 4500000]}, {'id': 'B5', 'data_type': {'type': 'PixelType', 'precision': 'int', 'min': 0, 'max': 65535}, 'dimensions': [5490, 5490], 'crs': 'EPSG:32618', 'crs_transform': [20, 0, 600000, 0, -20, 4500000]}, {'id': 'B6', 'data_type': {'type': 'PixelType', 'precision': 'int', 'min': 0, 'max': 65535}, 'dimensions': [5490, 5490], 'crs': 'EPSG:32618', 'crs_transform': [20, 0, 600000, 0, -20, 4500000]}, {'id': 'B7', 'data_type': {'type': 'PixelType', 'precision': 'int', 'min': 0, 'max': 65535}, 'dimensions': [5490, 5490], 'crs': 'EPSG:32618', 'crs_transform': [20, 0, 600000, 0, -20, 4500000]}, {'id': 'B8', 'data_type': {'type': 'PixelType', 'precision': 'int', 'min': 0, 'max': 65535}, 'dimensions': [10980, 10980], 'crs': 'EPSG:32618', 'crs_transform': [10, 0, 600000, 0, -10, 4500000]}, {'id': 'B8A', 'data_type': {'type': 'PixelType', 'precision': 'int', 'min': 0, 'max': 65535}, 'dimensions': [5490, 5490], 'crs': 'EPSG:32618', 'crs_transform': [20, 0, 600000, 0, -20, 4500000]}, {'id': 'B9', 'data_type': {'type': 'PixelType', 'precision': 'int', 'min': 0, 'max': 65535}, 'dimensions': [1830, 1830], 'crs': 'EPSG:32618', 'crs_transform': [60, 0, 600000, 0, -60, 4500000]}, {'id': 'B10', 'data_type': {'type': 'PixelType', 'precision': 'int', 'min': 0, 'max': 65535}, 'dimensions': [1830, 1830], 'crs': 'EPSG:32618', 'crs_transform': [60, 0, 600000, 0, -60, 4500000]}, {'id': 'B11', 'data_type': {'type': 'PixelType', 'precision': 'int', 'min': 0, 'max': 65535}, 'dimensions': [5490, 5490], 'crs': 'EPSG:32618', 'crs_transform': [20, 0, 600000, 0, -20, 4500000]}, {'id': 'B12', 'data_type': {'type': 'PixelType', 'precision': 'int', 'min': 0, 'max': 65535}, 'dimensions': [5490, 5490], 'crs': 'EPSG:32618', 'crs_transform': [20, 0, 600000, 0, -20, 4500000]}, {'id': 'QA10', 'data_type': {'type': 'PixelType', 'precision': 'int', 'min': 0, 'max': 65535}, 'dimensions': [10980, 10980], 'crs': 'EPSG:32618', 'crs_transform': [10, 0, 600000, 0, -10, 4500000]}, {'id': 'QA20', 'data_type': {'type': 'PixelType', 'precision': 'int', 'min': 0, 'max': 4294967295}, 'dimensions': [5490, 5490], 'crs': 'EPSG:32618', 'crs_transform': [20, 0, 600000, 0, -20, 4500000]}, {'id': 'QA60', 'data_type': {'type': 'PixelType', 'precision': 'int', 'min': 0, 'max': 65535}, 'dimensions': [1830, 1830], 'crs': 'EPSG:32618', 'crs_transform': [60, 0, 600000, 0, -60, 4500000]}], 'version': 1685689824021466, 'id': 'COPERNICUS/S2/20230601T155141_20230601T155136_T18TXK', 'properties': {'DATATAKE_IDENTIFIER': 'GS2A_20230601T155141_041478_N05.09', 'SPACECRAFT_NAME': 'Sentinel-2A', 'RADIO_ADD_OFFSET_B8A': -1000, 'MEAN_INCIDENCE_AZIMUTH_ANGLE_B8A': 186.175230666278, 'RADIO_ADD_OFFSET_B10': -1000, 'MEAN_SOLAR_AZIMUTH_ANGLE': 141.18874588623, 'system:footprint': {'type': 'LinearRing', 'coordinates': [[-73.81741783127796, 40.64481206754152], [-73.8174189980316, 40.64480083730799], [-73.82603896592042, 40.15039162328864], [-73.8344482916879, 39.65593856655722], [-73.83440153580959, 39.65589668605594], [-73.83436195932815, 39.65585053331293], [-73.83434275441138, 39.65584756787006], [-72.55547190172058, 39.635966499136515], [-72.55541675625781, 39.63600185688458], [-72.55535628576966, 39.63603173032676], [-72.555352134064, 39.63604645176489], [-72.5377306170361, 40.130157685022205], [-72.51966840484268, 40.62421245998055], [-72.51971507276285, 40.624254906586266], [-72.51975424853471, 40.624301524884515], [-72.51977365588498, 40.62430469554283], [-73.81729873261979, 40.644889638353945], [-73.81735410856847, 40.64485365104039], [-73.81741486951869, 40.64482311580446], [-73.81741783127796, 40.64481206754152]]}, 'SOLAR_IRRADIANCE_B12': 85.25, 'SOLAR_IRRADIANCE_B10': 367.15, 'SENSOR_QUALITY': 'PASSED', 'SOLAR_IRRADIANCE_B11': 245.59, 'GENERATION_TIME': 1685653548000, 'RADIO_ADD_OFFSET_B12': -1000, 'RADIO_ADD_OFFSET_B11': -1000, 'SOLAR_IRRADIANCE_B8A': 955.32, 'FORMAT_CORRECTNESS': 'PASSED', 'CLOUD_COVERAGE_ASSESSMENT': 0.195138702260444, 'system:time_end': 1685634726205, 'SNOW_PIXEL_PERCENTAGE': 0, 'system:time_start': 1685634726205, 'RADIO_ADD_OFFSET_B1': -1000, 'RADIO_ADD_OFFSET_B2': -1000, 'DATASTRIP_ID': 'S2A_OPER_MSI_L1C_DS_2APS_20230601T210548_S20230601T155136_N05.09', 'RADIO_ADD_OFFSET_B3': -1000, 'RADIO_ADD_OFFSET_B4': -1000, 'RADIO_ADD_OFFSET_B5': -1000, 'PROCESSING_BASELINE': '05.09', 'SENSING_ORBIT_NUMBER': 11, 'RADIO_ADD_OFFSET_B6': -1000, 'RADIO_ADD_OFFSET_B7': -1000, 'SENSING_ORBIT_DIRECTION': 'DESCENDING', 'GENERAL_QUALITY': 'PASSED', 'GRANULE_ID': 'L1C_T18TXK_A041478_20230601T155136', 'REFLECTANCE_CONVERSION_CORRECTION': 0.973787993504872, 'MEAN_INCIDENCE_AZIMUTH_ANGLE_B8': 189.327679763042, 'DATATAKE_TYPE': 'INS-NOBS', 'MEAN_INCIDENCE_AZIMUTH_ANGLE_B9': 185.468552887716, 'MEAN_INCIDENCE_AZIMUTH_ANGLE_B6': 186.603533912973, 'MEAN_INCIDENCE_AZIMUTH_ANGLE_B7': 186.352795567641, 'MEAN_INCIDENCE_AZIMUTH_ANGLE_B4': 187.174630732356, 'MEAN_INCIDENCE_ZENITH_ANGLE_B1': 3.09295738249268, 'RADIO_ADD_OFFSET_B8': -1000, 'MEAN_INCIDENCE_AZIMUTH_ANGLE_B5': 186.932273996861, 'RADIOMETRIC_QUALITY': 'PASSED', 'RADIO_ADD_OFFSET_B9': -1000, 'MEAN_INCIDENCE_AZIMUTH_ANGLE_B2': 190.567461148987, 'MEAN_INCIDENCE_AZIMUTH_ANGLE_B3': 188.379518411936, 'MEAN_INCIDENCE_ZENITH_ANGLE_B5': 2.7540869167794, 'MEAN_INCIDENCE_AZIMUTH_ANGLE_B1': 185.567841351924, 'MEAN_INCIDENCE_ZENITH_ANGLE_B4': 2.6775090249065, 'MEAN_INCIDENCE_ZENITH_ANGLE_B3': 2.55500054665064, 'MEAN_INCIDENCE_ZENITH_ANGLE_B2': 2.44613007896079, 'MEAN_INCIDENCE_ZENITH_ANGLE_B9': 3.18878831101834, 'MEAN_INCIDENCE_ZENITH_ANGLE_B8': 2.49702318274087, 'MEAN_INCIDENCE_ZENITH_ANGLE_B7': 2.91580613247384, 'MEAN_INCIDENCE_ZENITH_ANGLE_B6': 2.83265374752433, 'MEAN_SOLAR_ZENITH_ANGLE': 21.90718910058, 'MEAN_INCIDENCE_ZENITH_ANGLE_B8A': 3.0024165380386, 'MGRS_TILE': '18TXK', 'CLOUDY_PIXEL_PERCENTAGE': 0.195138702260444, 'PRODUCT_ID': 'S2A_MSIL1C_20230601T155141_N0509_R011_T18TXK_20230601T210548', 'MEAN_INCIDENCE_ZENITH_ANGLE_B10': 2.62949347584362, 'SOLAR_IRRADIANCE_B9': 812.92, 'DEGRADED_MSI_DATA_PERCENTAGE': 0, 'MEAN_INCIDENCE_ZENITH_ANGLE_B11': 2.8096649920441, 'MEAN_INCIDENCE_ZENITH_ANGLE_B12': 3.01052243425912, 'SOLAR_IRRADIANCE_B6': 1287.61, 'MEAN_INCIDENCE_AZIMUTH_ANGLE_B10': 187.41682021986, 'SOLAR_IRRADIANCE_B5': 1424.64, 'MEAN_INCIDENCE_AZIMUTH_ANGLE_B11': 186.126553324885, 'SOLAR_IRRADIANCE_B8': 1041.63, 'MEAN_INCIDENCE_AZIMUTH_ANGLE_B12': 185.799290137597, 'SOLAR_IRRADIANCE_B7': 1162.08, 'SOLAR_IRRADIANCE_B2': 1959.66, 'SOLAR_IRRADIANCE_B1': 1884.69, 'SOLAR_IRRADIANCE_B4': 1512.06, 'GEOMETRIC_QUALITY': 'PASSED', 'SOLAR_IRRADIANCE_B3': 1823.24, 'system:asset_size': 1091691949, 'system:index': '20230601T155141_20230601T155136_T18TXK'}}, {'type': 'Image', 'bands': [{'id': 'B1', 'data_type': {'type': 'PixelType', 'precision': 'int', 'min': 0, 'max': 65535}, 'dimensions': [1830, 1830], 'crs': 'EPSG:32618', 'crs_transform': [60, 0, 600000, 0, -60, 4600020]}, {'id': 'B2', 'data_type': {'type': 'PixelType', 'precision': 'int', 'min': 0, 'max': 65535}, 'dimensions': [10980, 10980], 'crs': 'EPSG:32618', 'crs_transform': [10, 0, 600000, 0, -10, 4600020]}, {'id': 'B3', 'data_type': {'type': 'PixelType', 'precision': 'int', 'min': 0, 'max': 65535}, 'dimensions': [10980, 10980], 'crs': 'EPSG:32618', 'crs_transform': [10, 0, 600000, 0, -10, 4600020]}, {'id': 'B4', 'data_type': {'type': 'PixelType', 'precision': 'int', 'min': 0, 'max': 65535}, 'dimensions': [10980, 10980], 'crs': 'EPSG:32618', 'crs_transform': [10, 0, 600000, 0, -10, 4600020]}, {'id': 'B5', 'data_type': {'type': 'PixelType', 'precision': 'int', 'min': 0, 'max': 65535}, 'dimensions': [5490, 5490], 'crs': 'EPSG:32618', 'crs_transform': [20, 0, 600000, 0, -20, 4600020]}, {'id': 'B6', 'data_type': {'type': 'PixelType', 'precision': 'int', 'min': 0, 'max': 65535}, 'dimensions': [5490, 5490], 'crs': 'EPSG:32618', 'crs_transform': [20, 0, 600000, 0, -20, 4600020]}, {'id': 'B7', 'data_type': {'type': 'PixelType', 'precision': 'int', 'min': 0, 'max': 65535}, 'dimensions': [5490, 5490], 'crs': 'EPSG:32618', 'crs_transform': [20, 0, 600000, 0, -20, 4600020]}, {'id': 'B8', 'data_type': {'type': 'PixelType', 'precision': 'int', 'min': 0, 'max': 65535}, 'dimensions': [10980, 10980], 'crs': 'EPSG:32618', 'crs_transform': [10, 0, 600000, 0, -10, 4600020]}, {'id': 'B8A', 'data_type': {'type': 'PixelType', 'precision': 'int', 'min': 0, 'max': 65535}, 'dimensions': [5490, 5490], 'crs': 'EPSG:32618', 'crs_transform': [20, 0, 600000, 0, -20, 4600020]}, {'id': 'B9', 'data_type': {'type': 'PixelType', 'precision': 'int', 'min': 0, 'max': 65535}, 'dimensions': [1830, 1830], 'crs': 'EPSG:32618', 'crs_transform': [60, 0, 600000, 0, -60, 4600020]}, {'id': 'B10', 'data_type': {'type': 'PixelType', 'precision': 'int', 'min': 0, 'max': 65535}, 'dimensions': [1830, 1830], 'crs': 'EPSG:32618', 'crs_transform': [60, 0, 600000, 0, -60, 4600020]}, {'id': 'B11', 'data_type': {'type': 'PixelType', 'precision': 'int', 'min': 0, 'max': 65535}, 'dimensions': [5490, 5490], 'crs': 'EPSG:32618', 'crs_transform': [20, 0, 600000, 0, -20, 4600020]}, {'id': 'B12', 'data_type': {'type': 'PixelType', 'precision': 'int', 'min': 0, 'max': 65535}, 'dimensions': [5490, 5490], 'crs': 'EPSG:32618', 'crs_transform': [20, 0, 600000, 0, -20, 4600020]}, {'id': 'QA10', 'data_type': {'type': 'PixelType', 'precision': 'int', 'min': 0, 'max': 65535}, 'dimensions': [10980, 10980], 'crs': 'EPSG:32618', 'crs_transform': [10, 0, 600000, 0, -10, 4600020]}, {'id': 'QA20', 'data_type': {'type': 'PixelType', 'precision': 'int', 'min': 0, 'max': 4294967295}, 'dimensions': [5490, 5490], 'crs': 'EPSG:32618', 'crs_transform': [20, 0, 600000, 0, -20, 4600020]}, {'id': 'QA60', 'data_type': {'type': 'PixelType', 'precision': 'int', 'min': 0, 'max': 65535}, 'dimensions': [1830, 1830], 'crs': 'EPSG:32618', 'crs_transform': [60, 0, 600000, 0, -60, 4600020]}], 'version': 1685686365575485, 'id': 'COPERNICUS/S2/20230601T155141_20230601T155136_T18TXL', 'properties': {'DATATAKE_IDENTIFIER': 'GS2A_20230601T155141_041478_N05.09', 'SPACECRAFT_NAME': 'Sentinel-2A', 'RADIO_ADD_OFFSET_B8A': -1000, 'MEAN_INCIDENCE_AZIMUTH_ANGLE_B8A': 147.919060405769, 'RADIO_ADD_OFFSET_B10': -1000, 'MEAN_SOLAR_AZIMUTH_ANGLE': 142.471089581692, 'system:footprint': {'type': 'LinearRing', 'coordinates': [[-73.80114947735424, 41.54560625525076], [-73.80115064420349, 41.545594982505435], [-73.81016982517872, 41.051266093289634], [-73.81896736381658, 40.55689310511392], [-73.8189199760332, 40.55685116105825], [-73.81887985795773, 40.55680504301423], [-73.81886038228953, 40.55680202452335], [-72.52303452171117, 40.53628060969295], [-72.5229786472853, 40.53631604143233], [-72.52291735690784, 40.53634581208757], [-72.52291311442168, 40.536360511940764], [-72.50447886606953, 41.03038242111831], [-72.48558092408666, 41.524347346858114], [-72.48562813970354, 41.52438981545039], [-72.48566786220454, 41.524436437964475], [-72.48568754289599, 41.524439668481534], [-73.80102866354127, 41.5456837051619], [-73.8010847620891, 41.545647739279325], [-73.80114642559464, 41.54561725619363], [-73.80114947735424, 41.54560625525076]]}, 'SOLAR_IRRADIANCE_B12': 85.25, 'SOLAR_IRRADIANCE_B10': 367.15, 'SENSOR_QUALITY': 'PASSED', 'SOLAR_IRRADIANCE_B11': 245.59, 'GENERATION_TIME': 1685653548000, 'RADIO_ADD_OFFSET_B12': -1000, 'RADIO_ADD_OFFSET_B11': -1000, 'SOLAR_IRRADIANCE_B8A': 955.32, 'FORMAT_CORRECTNESS': 'PASSED', 'CLOUD_COVERAGE_ASSESSMENT': 0, 'system:time_end': 1685634711569, 'SNOW_PIXEL_PERCENTAGE': 0, 'system:time_start': 1685634711569, 'RADIO_ADD_OFFSET_B1': -1000, 'RADIO_ADD_OFFSET_B2': -1000, 'DATASTRIP_ID': 'S2A_OPER_MSI_L1C_DS_2APS_20230601T210548_S20230601T155136_N05.09', 'RADIO_ADD_OFFSET_B3': -1000, 'RADIO_ADD_OFFSET_B4': -1000, 'RADIO_ADD_OFFSET_B5': -1000, 'PROCESSING_BASELINE': '05.09', 'SENSING_ORBIT_NUMBER': 11, 'RADIO_ADD_OFFSET_B6': -1000, 'RADIO_ADD_OFFSET_B7': -1000, 'SENSING_ORBIT_DIRECTION': 'DESCENDING', 'GENERAL_QUALITY': 'PASSED', 'GRANULE_ID': 'L1C_T18TXL_A041478_20230601T155136', 'REFLECTANCE_CONVERSION_CORRECTION': 0.973787993504872, 'MEAN_INCIDENCE_AZIMUTH_ANGLE_B8': 152.161898321071, 'DATATAKE_TYPE': 'INS-NOBS', 'MEAN_INCIDENCE_AZIMUTH_ANGLE_B9': 147.469914829914, 'MEAN_INCIDENCE_AZIMUTH_ANGLE_B6': 148.606100627625, 'MEAN_INCIDENCE_AZIMUTH_ANGLE_B7': 148.228464936732, 'MEAN_INCIDENCE_AZIMUTH_ANGLE_B4': 149.640548613149, 'MEAN_INCIDENCE_ZENITH_ANGLE_B1': 3.27712113748557, 'RADIO_ADD_OFFSET_B8': -1000, 'MEAN_INCIDENCE_AZIMUTH_ANGLE_B5': 149.071814926442, 'RADIOMETRIC_QUALITY': 'PASSED', 'RADIO_ADD_OFFSET_B9': -1000, 'MEAN_INCIDENCE_AZIMUTH_ANGLE_B2': 153.524321309772, 'MEAN_INCIDENCE_AZIMUTH_ANGLE_B3': 151.086876053773, 'MEAN_INCIDENCE_ZENITH_ANGLE_B5': 2.94211103247255, 'MEAN_INCIDENCE_AZIMUTH_ANGLE_B1': 147.924616235601, 'MEAN_INCIDENCE_ZENITH_ANGLE_B4': 2.86948821274863, 'MEAN_INCIDENCE_ZENITH_ANGLE_B3': 2.74942490564929, 'MEAN_INCIDENCE_ZENITH_ANGLE_B2': 2.64245638538512, 'MEAN_INCIDENCE_ZENITH_ANGLE_B9': 3.36785510772692, 'MEAN_INCIDENCE_ZENITH_ANGLE_B8': 2.69251219032308, 'MEAN_INCIDENCE_ZENITH_ANGLE_B7': 3.10035316474981, 'MEAN_INCIDENCE_ZENITH_ANGLE_B6': 3.01905059493113, 'MEAN_SOLAR_ZENITH_ANGLE': 22.6324129333877, 'MEAN_INCIDENCE_ZENITH_ANGLE_B8A': 3.18506474203142, 'MGRS_TILE': '18TXL', 'CLOUDY_PIXEL_PERCENTAGE': 0, 'PRODUCT_ID': 'S2A_MSIL1C_20230601T155141_N0509_R011_T18TXL_20230601T210548', 'MEAN_INCIDENCE_ZENITH_ANGLE_B10': 2.82063305871237, 'SOLAR_IRRADIANCE_B9': 812.92, 'DEGRADED_MSI_DATA_PERCENTAGE': 0.0009, 'MEAN_INCIDENCE_ZENITH_ANGLE_B11': 2.999231224636, 'MEAN_INCIDENCE_ZENITH_ANGLE_B12': 3.19390958690085, 'SOLAR_IRRADIANCE_B6': 1287.61, 'MEAN_INCIDENCE_AZIMUTH_ANGLE_B10': 150.715892683854, 'SOLAR_IRRADIANCE_B5': 1424.64, 'MEAN_INCIDENCE_AZIMUTH_ANGLE_B11': 149.132689978989, 'SOLAR_IRRADIANCE_B8': 1041.63, 'MEAN_INCIDENCE_AZIMUTH_ANGLE_B12': 148.534216903876, 'SOLAR_IRRADIANCE_B7': 1162.08, 'SOLAR_IRRADIANCE_B2': 1959.66, 'SOLAR_IRRADIANCE_B1': 1884.69, 'SOLAR_IRRADIANCE_B4': 1512.06, 'GEOMETRIC_QUALITY': 'PASSED', 'SOLAR_IRRADIANCE_B3': 1823.24, 'system:asset_size': 1188789886, 'system:index': '20230601T155141_20230601T155136_T18TXL'}}, {'type': 'Image', 'bands': [{'id': 'B1', 'data_type': {'type': 'PixelType', 'precision': 'int', 'min': 0, 'max': 65535}, 'dimensions': [1830, 1830], 'crs': 'EPSG:32618', 'crs_transform': [60, 0, 499980, 0, -60, 4500000]}, {'id': 'B2', 'data_type': {'type': 'PixelType', 'precision': 'int', 'min': 0, 'max': 65535}, 'dimensions': [10980, 10980], 'crs': 'EPSG:32618', 'crs_transform': [10, 0, 499980, 0, -10, 4500000]}, {'id': 'B3', 'data_type': {'type': 'PixelType', 'precision': 'int', 'min': 0, 'max': 65535}, 'dimensions': [10980, 10980], 'crs': 'EPSG:32618', 'crs_transform': [10, 0, 499980, 0, -10, 4500000]}, {'id': 'B4', 'data_type': {'type': 'PixelType', 'precision': 'int', 'min': 0, 'max': 65535}, 'dimensions': [10980, 10980], 'crs': 'EPSG:32618', 'crs_transform': [10, 0, 499980, 0, -10, 4500000]}, {'id': 'B5', 'data_type': {'type': 'PixelType', 'precision': 'int', 'min': 0, 'max': 65535}, 'dimensions': [5490, 5490], 'crs': 'EPSG:32618', 'crs_transform': [20, 0, 499980, 0, -20, 4500000]}, {'id': 'B6', 'data_type': {'type': 'PixelType', 'precision': 'int', 'min': 0, 'max': 65535}, 'dimensions': [5490, 5490], 'crs': 'EPSG:32618', 'crs_transform': [20, 0, 499980, 0, -20, 4500000]}, {'id': 'B7', 'data_type': {'type': 'PixelType', 'precision': 'int', 'min': 0, 'max': 65535}, 'dimensions': [5490, 5490], 'crs': 'EPSG:32618', 'crs_transform': [20, 0, 499980, 0, -20, 4500000]}, {'id': 'B8', 'data_type': {'type': 'PixelType', 'precision': 'int', 'min': 0, 'max': 65535}, 'dimensions': [10980, 10980], 'crs': 'EPSG:32618', 'crs_transform': [10, 0, 499980, 0, -10, 4500000]}, {'id': 'B8A', 'data_type': {'type': 'PixelType', 'precision': 'int', 'min': 0, 'max': 65535}, 'dimensions': [5490, 5490], 'crs': 'EPSG:32618', 'crs_transform': [20, 0, 499980, 0, -20, 4500000]}, {'id': 'B9', 'data_type': {'type': 'PixelType', 'precision': 'int', 'min': 0, 'max': 65535}, 'dimensions': [1830, 1830], 'crs': 'EPSG:32618', 'crs_transform': [60, 0, 499980, 0, -60, 4500000]}, {'id': 'B10', 'data_type': {'type': 'PixelType', 'precision': 'int', 'min': 0, 'max': 65535}, 'dimensions': [1830, 1830], 'crs': 'EPSG:32618', 'crs_transform': [60, 0, 499980, 0, -60, 4500000]}, {'id': 'B11', 'data_type': {'type': 'PixelType', 'precision': 'int', 'min': 0, 'max': 65535}, 'dimensions': [5490, 5490], 'crs': 'EPSG:32618', 'crs_transform': [20, 0, 499980, 0, -20, 4500000]}, {'id': 'B12', 'data_type': {'type': 'PixelType', 'precision': 'int', 'min': 0, 'max': 65535}, 'dimensions': [5490, 5490], 'crs': 'EPSG:32618', 'crs_transform': [20, 0, 499980, 0, -20, 4500000]}, {'id': 'QA10', 'data_type': {'type': 'PixelType', 'precision': 'int', 'min': 0, 'max': 65535}, 'dimensions': [10980, 10980], 'crs': 'EPSG:32618', 'crs_transform': [10, 0, 499980, 0, -10, 4500000]}, {'id': 'QA20', 'data_type': {'type': 'PixelType', 'precision': 'int', 'min': 0, 'max': 4294967295}, 'dimensions': [5490, 5490], 'crs': 'EPSG:32618', 'crs_transform': [20, 0, 499980, 0, -20, 4500000]}, {'id': 'QA60', 'data_type': {'type': 'PixelType', 'precision': 'int', 'min': 0, 'max': 65535}, 'dimensions': [1830, 1830], 'crs': 'EPSG:32618', 'crs_transform': [60, 0, 499980, 0, -60, 4500000]}], 'version': 1686089193145769, 'id': 'COPERNICUS/S2/20230606T153819_20230606T155122_T18TWK', 'properties': {'DATATAKE_IDENTIFIER': 'GS2B_20230606T153819_032641_N05.09', 'SPACECRAFT_NAME': 'Sentinel-2B', 'RADIO_ADD_OFFSET_B8A': -1000, 'MEAN_INCIDENCE_AZIMUTH_ANGLE_B8A': 105.712734022366, 'RADIO_ADD_OFFSET_B10': -1000, 'MEAN_SOLAR_AZIMUTH_ANGLE': 137.511562579037, 'system:footprint': {'type': 'LinearRing', 'coordinates': [[-73.72053481747572, 39.65468600033874], [-73.72047115369966, 39.65471836486853], [-73.71123960409992, 40.149170746262364], [-73.70177720135572, 40.643558525121456], [-73.7018246168431, 40.64360053851793], [-73.7018671830098, 40.64364954742367], [-74.8611369913141, 40.650862994895924], [-74.86118080404265, 40.65083379583897], [-74.86123684148704, 40.65082182940084], [-74.86124969083465, 40.65080151351051], [-74.86148802820519, 40.65025973701556], [-74.86505635519956, 40.6410714166687], [-74.87267120457716, 40.617294407205115], [-74.88028132979801, 40.592797956385645], [-74.95135793853643, 40.35933462117501], [-74.99964528063236, 40.196273925364416], [-75.00035273088788, 40.1935612691866], [-75.00035005622358, 39.661787163865164], [-75.000302536347, 39.66174571565708], [-75.0002596525439, 39.66169717707824], [-73.72058932227229, 39.65465002035422], [-73.72053481747572, 39.65468600033874]]}, 'SOLAR_IRRADIANCE_B12': 87.75, 'SOLAR_IRRADIANCE_B10': 365.41, 'SENSOR_QUALITY': 'PASSED', 'SOLAR_IRRADIANCE_B11': 247.08, 'GENERATION_TIME': 1686073087000, 'RADIO_ADD_OFFSET_B12': -1000, 'RADIO_ADD_OFFSET_B11': -1000, 'SOLAR_IRRADIANCE_B8A': 953.93, 'FORMAT_CORRECTNESS': 'PASSED', 'CLOUD_COVERAGE_ASSESSMENT': 2.41137562208328, 'system:time_end': 1686066730259, 'SNOW_PIXEL_PERCENTAGE': 0, 'system:time_start': 1686066730259, 'RADIO_ADD_OFFSET_B1': -1000, 'RADIO_ADD_OFFSET_B2': -1000, 'DATASTRIP_ID': 'S2B_OPER_MSI_L1C_DS_2BPS_20230606T173807_S20230606T155122_N05.09', 'RADIO_ADD_OFFSET_B3': -1000, 'RADIO_ADD_OFFSET_B4': -1000, 'RADIO_ADD_OFFSET_B5': -1000, 'PROCESSING_BASELINE': '05.09', 'SENSING_ORBIT_NUMBER': 11, 'RADIO_ADD_OFFSET_B6': -1000, 'RADIO_ADD_OFFSET_B7': -1000, 'SENSING_ORBIT_DIRECTION': 'DESCENDING', 'GENERAL_QUALITY': 'PASSED', 'GRANULE_ID': 'L1C_T18TWK_A032641_20230606T155122', 'REFLECTANCE_CONVERSION_CORRECTION': 0.972227294113109, 'MEAN_INCIDENCE_AZIMUTH_ANGLE_B8': 105.26893709575, 'DATATAKE_TYPE': 'INS-NOBS', 'MEAN_INCIDENCE_AZIMUTH_ANGLE_B9': 105.834601117777, 'MEAN_INCIDENCE_AZIMUTH_ANGLE_B6': 105.623844213933, 'MEAN_INCIDENCE_AZIMUTH_ANGLE_B7': 105.667263803651, 'MEAN_INCIDENCE_AZIMUTH_ANGLE_B4': 105.505579394698, 'MEAN_INCIDENCE_ZENITH_ANGLE_B1': 7.5481228227429, 'RADIO_ADD_OFFSET_B8': -1000, 'MEAN_INCIDENCE_AZIMUTH_ANGLE_B5': 105.568172906389, 'RADIOMETRIC_QUALITY': 'PASSED', 'RADIO_ADD_OFFSET_B9': -1000, 'MEAN_INCIDENCE_AZIMUTH_ANGLE_B2': 105.190245524869, 'MEAN_INCIDENCE_AZIMUTH_ANGLE_B3': 105.356699851509, 'MEAN_INCIDENCE_ZENITH_ANGLE_B5': 7.41718648278556, 'MEAN_INCIDENCE_AZIMUTH_ANGLE_B1': 105.797642882216, 'MEAN_INCIDENCE_ZENITH_ANGLE_B4': 7.38707664469957, 'MEAN_INCIDENCE_ZENITH_ANGLE_B3': 7.34367272292054, 'MEAN_INCIDENCE_ZENITH_ANGLE_B2': 7.3166490739079, 'MEAN_INCIDENCE_ZENITH_ANGLE_B9': 7.58855403574314, 'MEAN_INCIDENCE_ZENITH_ANGLE_B8': 7.32678227930605, 'MEAN_INCIDENCE_ZENITH_ANGLE_B7': 7.481273156839, 'MEAN_INCIDENCE_ZENITH_ANGLE_B6': 7.44544423612431, 'MEAN_SOLAR_ZENITH_ANGLE': 22.1003423985838, 'MEAN_INCIDENCE_ZENITH_ANGLE_B8A': 7.51511095668163, 'MGRS_TILE': '18TWK', 'CLOUDY_PIXEL_PERCENTAGE': 2.41137562208328, 'PRODUCT_ID': 'S2B_MSIL1C_20230606T153819_N0509_R011_T18TWK_20230606T173807', 'MEAN_INCIDENCE_ZENITH_ANGLE_B10': 7.37328879254494, 'SOLAR_IRRADIANCE_B9': 817.58, 'DEGRADED_MSI_DATA_PERCENTAGE': 0.022, 'MEAN_INCIDENCE_ZENITH_ANGLE_B11': 7.43674889677876, 'MEAN_INCIDENCE_ZENITH_ANGLE_B12': 7.51914310448303, 'SOLAR_IRRADIANCE_B6': 1291.13, 'MEAN_INCIDENCE_AZIMUTH_ANGLE_B10': 105.578582247955, 'SOLAR_IRRADIANCE_B5': 1425.78, 'MEAN_INCIDENCE_AZIMUTH_ANGLE_B11': 105.71183752973, 'SOLAR_IRRADIANCE_B8': 1041.28, 'MEAN_INCIDENCE_AZIMUTH_ANGLE_B12': 105.822513795577, 'SOLAR_IRRADIANCE_B7': 1175.57, 'SOLAR_IRRADIANCE_B2': 1959.75, 'SOLAR_IRRADIANCE_B1': 1874.3, 'SOLAR_IRRADIANCE_B4': 1512.79, 'GEOMETRIC_QUALITY': 'PASSED', 'SOLAR_IRRADIANCE_B3': 1824.93, 'system:asset_size': 1132210411, 'system:index': '20230606T153819_20230606T155122_T18TWK'}}, {'type': 'Image', 'bands': [{'id': 'B1', 'data_type': {'type': 'PixelType', 'precision': 'int', 'min': 0, 'max': 65535}, 'dimensions': [1830, 1830], 'crs': 'EPSG:32618', 'crs_transform': [60, 0, 499980, 0, -60, 4600020]}, {'id': 'B2', 'data_type': {'type': 'PixelType', 'precision': 'int', 'min': 0, 'max': 65535}, 'dimensions': [10980, 10980], 'crs': 'EPSG:32618', 'crs_transform': [10, 0, 499980, 0, -10, 4600020]}, {'id': 'B3', 'data_type': {'type': 'PixelType', 'precision': 'int', 'min': 0, 'max': 65535}, 'dimensions': [10980, 10980], 'crs': 'EPSG:32618', 'crs_transform': [10, 0, 499980, 0, -10, 4600020]}, {'id': 'B4', 'data_type': {'type': 'PixelType', 'precision': 'int', 'min': 0, 'max': 65535}, 'dimensions': [10980, 10980], 'crs': 'EPSG:32618', 'crs_transform': [10, 0, 499980, 0, -10, 4600020]}, {'id': 'B5', 'data_type': {'type': 'PixelType', 'precision': 'int', 'min': 0, 'max': 65535}, 'dimensions': [5490, 5490], 'crs': 'EPSG:32618', 'crs_transform': [20, 0, 499980, 0, -20, 4600020]}, {'id': 'B6', 'data_type': {'type': 'PixelType', 'precision': 'int', 'min': 0, 'max': 65535}, 'dimensions': [5490, 5490], 'crs': 'EPSG:32618', 'crs_transform': [20, 0, 499980, 0, -20, 4600020]}, {'id': 'B7', 'data_type': {'type': 'PixelType', 'precision': 'int', 'min': 0, 'max': 65535}, 'dimensions': [5490, 5490], 'crs': 'EPSG:32618', 'crs_transform': [20, 0, 499980, 0, -20, 4600020]}, {'id': 'B8', 'data_type': {'type': 'PixelType', 'precision': 'int', 'min': 0, 'max': 65535}, 'dimensions': [10980, 10980], 'crs': 'EPSG:32618', 'crs_transform': [10, 0, 499980, 0, -10, 4600020]}, {'id': 'B8A', 'data_type': {'type': 'PixelType', 'precision': 'int', 'min': 0, 'max': 65535}, 'dimensions': [5490, 5490], 'crs': 'EPSG:32618', 'crs_transform': [20, 0, 499980, 0, -20, 4600020]}, {'id': 'B9', 'data_type': {'type': 'PixelType', 'precision': 'int', 'min': 0, 'max': 65535}, 'dimensions': [1830, 1830], 'crs': 'EPSG:32618', 'crs_transform': [60, 0, 499980, 0, -60, 4600020]}, {'id': 'B10', 'data_type': {'type': 'PixelType', 'precision': 'int', 'min': 0, 'max': 65535}, 'dimensions': [1830, 1830], 'crs': 'EPSG:32618', 'crs_transform': [60, 0, 499980, 0, -60, 4600020]}, {'id': 'B11', 'data_type': {'type': 'PixelType', 'precision': 'int', 'min': 0, 'max': 65535}, 'dimensions': [5490, 5490], 'crs': 'EPSG:32618', 'crs_transform': [20, 0, 499980, 0, -20, 4600020]}, {'id': 'B12', 'data_type': {'type': 'PixelType', 'precision': 'int', 'min': 0, 'max': 65535}, 'dimensions': [5490, 5490], 'crs': 'EPSG:32618', 'crs_transform': [20, 0, 499980, 0, -20, 4600020]}, {'id': 'QA10', 'data_type': {'type': 'PixelType', 'precision': 'int', 'min': 0, 'max': 65535}, 'dimensions': [10980, 10980], 'crs': 'EPSG:32618', 'crs_transform': [10, 0, 499980, 0, -10, 4600020]}, {'id': 'QA20', 'data_type': {'type': 'PixelType', 'precision': 'int', 'min': 0, 'max': 4294967295}, 'dimensions': [5490, 5490], 'crs': 'EPSG:32618', 'crs_transform': [20, 0, 499980, 0, -20, 4600020]}, {'id': 'QA60', 'data_type': {'type': 'PixelType', 'precision': 'int', 'min': 0, 'max': 65535}, 'dimensions': [1830, 1830], 'crs': 'EPSG:32618', 'crs_transform': [60, 0, 499980, 0, -60, 4600020]}], 'version': 1686094529567498, 'id': 'COPERNICUS/S2/20230606T153819_20230606T155122_T18TWL', 'properties': {'DATATAKE_IDENTIFIER': 'GS2B_20230606T153819_032641_N05.09', 'SPACECRAFT_NAME': 'Sentinel-2B', 'RADIO_ADD_OFFSET_B8A': -1000, 'MEAN_INCIDENCE_AZIMUTH_ANGLE_B8A': 104.76191659115, 'RADIO_ADD_OFFSET_B10': -1000, 'MEAN_SOLAR_AZIMUTH_ANGLE': 138.859726736719, 'system:footprint': {'type': 'LinearRing', 'coordinates': [[-73.6840077369691, 41.54440109346079], [-73.68402740534232, 41.54440417403663], [-74.58223976659366, 41.551175817593645], [-74.5822790934667, 41.551150074128174], [-74.58233093342201, 41.55114495805071], [-74.58234773671454, 41.55112633317523], [-74.58308001903937, 41.55003926574898], [-74.58601635684556, 41.54139260128878], [-74.61021151020535, 41.46527360067485], [-74.88337754610016, 40.57946683955936], [-74.88694441701598, 40.56649628075668], [-74.88766011939472, 40.56378525274772], [-74.88766163608805, 40.56287547817444], [-74.88761354798106, 40.562833949602435], [-74.88757018837715, 40.56278539214261], [-73.70359712193483, 40.555565981914455], [-73.7035418043489, 40.555601897785856], [-73.70347732701376, 40.55563422369486], [-73.69381959404613, 41.050005991368856], [-73.6839190945511, 41.544312908256416], [-73.68396705306776, 41.544354930070135], [-73.6840077369691, 41.54440109346079]]}, 'SOLAR_IRRADIANCE_B12': 87.75, 'SOLAR_IRRADIANCE_B10': 365.41, 'SENSOR_QUALITY': 'PASSED', 'SOLAR_IRRADIANCE_B11': 247.08, 'GENERATION_TIME': 1686073087000, 'RADIO_ADD_OFFSET_B12': -1000, 'RADIO_ADD_OFFSET_B11': -1000, 'SOLAR_IRRADIANCE_B8A': 953.93, 'FORMAT_CORRECTNESS': 'PASSED', 'CLOUD_COVERAGE_ASSESSMENT': 5.0290508242514, 'system:time_end': 1686066715676, 'SNOW_PIXEL_PERCENTAGE': 0, 'system:time_start': 1686066715676, 'RADIO_ADD_OFFSET_B1': -1000, 'RADIO_ADD_OFFSET_B2': -1000, 'DATASTRIP_ID': 'S2B_OPER_MSI_L1C_DS_2BPS_20230606T173807_S20230606T155122_N05.09', 'RADIO_ADD_OFFSET_B3': -1000, 'RADIO_ADD_OFFSET_B4': -1000, 'RADIO_ADD_OFFSET_B5': -1000, 'PROCESSING_BASELINE': '05.09', 'SENSING_ORBIT_NUMBER': 11, 'RADIO_ADD_OFFSET_B6': -1000, 'RADIO_ADD_OFFSET_B7': -1000, 'SENSING_ORBIT_DIRECTION': 'DESCENDING', 'GENERAL_QUALITY': 'PASSED', 'GRANULE_ID': 'L1C_T18TWL_A032641_20230606T155122', 'REFLECTANCE_CONVERSION_CORRECTION': 0.972227294113109, 'MEAN_INCIDENCE_AZIMUTH_ANGLE_B8': 104.505233364596, 'DATATAKE_TYPE': 'INS-NOBS', 'MEAN_INCIDENCE_AZIMUTH_ANGLE_B9': 104.85974781836, 'MEAN_INCIDENCE_AZIMUTH_ANGLE_B6': 104.699119870635, 'MEAN_INCIDENCE_AZIMUTH_ANGLE_B7': 104.7253440826, 'MEAN_INCIDENCE_AZIMUTH_ANGLE_B4': 104.609057686278, 'MEAN_INCIDENCE_ZENITH_ANGLE_B1': 8.4939057880656, 'RADIO_ADD_OFFSET_B8': -1000, 'MEAN_INCIDENCE_AZIMUTH_ANGLE_B5': 104.661377786147, 'RADIOMETRIC_QUALITY': 'PASSED', 'RADIO_ADD_OFFSET_B9': -1000, 'MEAN_INCIDENCE_AZIMUTH_ANGLE_B2': 104.43832155233, 'MEAN_INCIDENCE_AZIMUTH_ANGLE_B3': 104.526744697596, 'MEAN_INCIDENCE_ZENITH_ANGLE_B5': 8.38627310030916, 'MEAN_INCIDENCE_AZIMUTH_ANGLE_B1': 104.828439734045, 'MEAN_INCIDENCE_ZENITH_ANGLE_B4': 8.36569381263911, 'MEAN_INCIDENCE_ZENITH_ANGLE_B3': 8.33445565367338, 'MEAN_INCIDENCE_ZENITH_ANGLE_B2': 8.3144656170775, 'MEAN_INCIDENCE_ZENITH_ANGLE_B9': 8.5341757340163, 'MEAN_INCIDENCE_ZENITH_ANGLE_B8': 8.3318467276592, 'MEAN_INCIDENCE_ZENITH_ANGLE_B7': 8.43835867511732, 'MEAN_INCIDENCE_ZENITH_ANGLE_B6': 8.40930845720563, 'MEAN_SOLAR_ZENITH_ANGLE': 22.7984747815893, 'MEAN_INCIDENCE_ZENITH_ANGLE_B8A': 8.46622910282586, 'MGRS_TILE': '18TWL', 'CLOUDY_PIXEL_PERCENTAGE': 5.0290508242514, 'PRODUCT_ID': 'S2B_MSIL1C_20230606T153819_N0509_R011_T18TWL_20230606T173807', 'MEAN_INCIDENCE_ZENITH_ANGLE_B10': 8.3635322800316, 'SOLAR_IRRADIANCE_B9': 817.58, 'DEGRADED_MSI_DATA_PERCENTAGE': 0.0218, 'MEAN_INCIDENCE_ZENITH_ANGLE_B11': 8.41667233637458, 'MEAN_INCIDENCE_ZENITH_ANGLE_B12': 8.469801638835, 'SOLAR_IRRADIANCE_B6': 1291.13, 'MEAN_INCIDENCE_AZIMUTH_ANGLE_B10': 104.699556209574, 'SOLAR_IRRADIANCE_B5': 1425.78, 'MEAN_INCIDENCE_AZIMUTH_ANGLE_B11': 104.81465372875, 'SOLAR_IRRADIANCE_B8': 1041.28, 'MEAN_INCIDENCE_AZIMUTH_ANGLE_B12': 104.862038531007, 'SOLAR_IRRADIANCE_B7': 1175.57, 'SOLAR_IRRADIANCE_B2': 1959.75, 'SOLAR_IRRADIANCE_B1': 1874.3, 'SOLAR_IRRADIANCE_B4': 1512.79, 'GEOMETRIC_QUALITY': 'PASSED', 'SOLAR_IRRADIANCE_B3': 1824.93, 'system:asset_size': 982570257, 'system:index': '20230606T153819_20230606T155122_T18TWL'}}]\n"
     ]
    }
   ],
   "source": [
    "print(sentinel2.size().getInfo())  # Outputs the number of images in the filtered collection\n",
    "image_list = sentinel2.toList(sentinel2.size())\n",
    "print(image_list.getInfo())  # Lists metadata for the filtered images"
   ]
  },
  {
   "cell_type": "code",
   "execution_count": null,
   "metadata": {},
   "outputs": [],
   "source": [
    "\n",
    "# Load Landsat imagery (1980–2024)\n",
    "landsat = ee.ImageCollection(\"LANDSAT/LC08/C01/T1_SR\").filterBounds(nyc)\n",
    "\n",
    "# Preprocess and visualize\n",
    "image = landsat.filterDate('2020-01-01', '2020-12-31').median()\n",
    "Map = geemap.Map()\n",
    "Map.centerObject(nyc)\n",
    "Map.addLayer(image, {\"bands\": [\"B4\", \"B3\", \"B2\"], \"min\": 0, \"max\": 3000}, \"Landsat\")\n",
    "Map\n"
   ]
  },
  {
   "cell_type": "markdown",
   "metadata": {},
   "source": [
    "## Segment buildings"
   ]
  },
  {
   "cell_type": "markdown",
   "metadata": {},
   "source": [
    "Next is to segment the buildings from the imagery with the SAM (Segment Anything) model:\n",
    "1. Preprocess imagery to extract building-relevant features\n",
    "2. Run SAM to segment buildings from each time-step image\n",
    "3. Save segmentation masks as raster files or NetCDF format"
   ]
  },
  {
   "cell_type": "code",
   "execution_count": null,
   "metadata": {},
   "outputs": [],
   "source": [
    "import torch\n",
    "from segment_anything import sam_model_registry, SamAutomaticMaskGenerator\n",
    "\n",
    "# Load the SAM model\n",
    "sam = sam_model_registry[\"vit_h\"](checkpoint=\"sam_vit_h_4b8939.pth\").cuda()\n",
    "mask_generator = SamAutomaticMaskGenerator(sam)\n",
    "\n",
    "# Load an image of Brooklyn\n",
    "import cv2\n",
    "image = cv2.imread(\"brooklyn_2020.png\")\n",
    "image_rgb = cv2.cvtColor(image, cv2.COLOR_BGR2RGB)\n",
    "\n",
    "# Generate segmentation masks\n",
    "masks = mask_generator.generate(image_rgb)\n",
    "\n",
    "# Save masks for further analysis\n",
    "import numpy as np\n",
    "np.save(\"segmentation_masks_2020.npy\", masks)"
   ]
  },
  {
   "cell_type": "markdown",
   "metadata": {},
   "source": [
    "## Utilize NetCDF for managing time-series data"
   ]
  },
  {
   "cell_type": "markdown",
   "metadata": {},
   "source": [
    "We will combine the segmentation masks for each time step into a NetCDF file, and use xarray to handle the multi-dimensional data."
   ]
  },
  {
   "cell_type": "code",
   "execution_count": null,
   "metadata": {},
   "outputs": [],
   "source": [
    "import xarray as xr\n",
    "import numpy as np\n",
    "\n",
    "# Combine masks into a NetCDF structure\n",
    "years = list(range(1980, 2025))\n",
    "masks = [np.load(f\"segmentation_masks_{year}.npy\") for year in years]\n",
    "\n",
    "ds = xr.Dataset(\n",
    "    {\"building_masks\": ((\"time\", \"x\", \"y\"), masks)},\n",
    "    coords={\"time\": years, \"x\": range(masks[0].shape[0]), \"y\": range(masks[0].shape[1])}\n",
    ")\n",
    "\n",
    "ds.to_netcdf(\"brooklyn_building_growth.nc\")"
   ]
  },
  {
   "cell_type": "markdown",
   "metadata": {},
   "source": [
    "## Analyze and visualize results"
   ]
  },
  {
   "cell_type": "markdown",
   "metadata": {},
   "source": [
    "We will calculate the number of buildings or total building area per year.  \n",
    "We will also create plots to visualize the trends in building growth."
   ]
  },
  {
   "cell_type": "code",
   "execution_count": null,
   "metadata": {},
   "outputs": [],
   "source": [
    "import matplotlib.pyplot as plt\n",
    "\n",
    "# Calculate total building area per year\n",
    "building_area = ds.building_masks.sum(dim=[\"x\", \"y\"])\n",
    "\n",
    "# Plot trends\n",
    "plt.figure(figsize=(10, 6))\n",
    "plt.plot(ds.time, building_area, label=\"Total Building Area\")\n",
    "plt.xlabel(\"Year\")\n",
    "plt.ylabel(\"Building Area (pixels)\")\n",
    "plt.title(\"Urban Development in Brooklyn (1980–2024)\")\n",
    "plt.legend()\n",
    "plt.show()"
   ]
  }
 ],
 "metadata": {
  "kernelspec": {
   "display_name": "geo",
   "language": "python",
   "name": "python3"
  },
  "language_info": {
   "codemirror_mode": {
    "name": "ipython",
    "version": 3
   },
   "file_extension": ".py",
   "mimetype": "text/x-python",
   "name": "python",
   "nbconvert_exporter": "python",
   "pygments_lexer": "ipython3",
   "version": "3.11.8"
  }
 },
 "nbformat": 4,
 "nbformat_minor": 2
}
